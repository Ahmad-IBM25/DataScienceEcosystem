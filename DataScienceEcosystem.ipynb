{
 "cells": [
  {
   "cell_type": "markdown",
   "metadata": {},
   "source": [
    "<center>\n",
    "    <img src=\"https://cf-courses-data.s3.us.cloud-object-storage.appdomain.cloud/IBMDeveloperSkillsNetwork-DS0105EN-SkillsNetwork/labs/Module2/images/SN_web_lightmode.png\" width=\"300\" alt=\"cognitiveclass.ai logo\">\n",
    "</center>\n"
   ]
  },
  {
   "cell_type": "markdown",
   "metadata": {},
   "source": [
    "#### Add your code below following the instructions given in the course\n"
   ]
  },
  {
   "cell_type": "markdown",
   "metadata": {},
   "source": [
    "### Data Science Tools and Ecosystem"
   ]
  },
  {
   "cell_type": "markdown",
   "metadata": {},
   "source": [
    "In this notebook, Data Science Tools and Ecosystem are summarized."
   ]
  },
  {
   "cell_type": "markdown",
   "metadata": {},
   "source": [
    "Some of the popular languages that Data Scientists use are:\n",
    "\n",
    "1. **Python:** A versatile language with extensive libraries for data analysis, machine learning, and visualization (e.g., NumPy, Pandas, Scikit-learn).\n",
    "2. **R:** A language specifically designed for statistical computing and graphics, widely used in academia and research.\n",
    "3. **SQL:** Essential for working with relational databases, allowing data scientists to query, manipulate, and extract data.\n",
    "4. **Julia:** A high-performance language for technical computing, gaining popularity for its speed and ease of use in data science and machine learning."
   ]
  },
  {
   "cell_type": "markdown",
   "metadata": {},
   "source": [
    "Some of the commonly used libraries used by Data Scientists include:\n",
    "\n",
    "1. **Pandas:** A powerful Python library for data manipulation and analysis, providing data structures like DataFrames for efficient handling of tabular data.\n",
    "2. **NumPy:** The fundamental package for scientific computing in Python, providing support for arrays, matrices, and mathematical functions crucial for numerical analysis.\n",
    "3. **Scikit-learn:** A comprehensive machine learning library in Python, offering various algorithms for classification, regression, clustering, dimensionality reduction, and model selection.\n",
    "4. **Matplotlib:** A versatile plotting library in Python, enabling the creation of static, interactive, and animated visualizations for data exploration and presentation."
   ]
  },
  {
   "cell_type": "markdown",
   "metadata": {},
   "source": [
    "# Data Science Tools\n",
    "\n",
    "| Data Science Tools |\n",
    "|--------------------|\n",
    "| Jupyter Notebook  |\n",
    "| RStudio           |\n",
    "| Apache Zeppelin   |\n"
   ]
  },
  {
   "cell_type": "markdown",
   "metadata": {},
   "source": [
    "### Below are a few examples of evaluating arithmetic expressions in Python\n",
    "\n",
    "Arithmetic expressions are fundamental in programming and are used to perform mathematical operations. In Python, we can use operators like `+`, `-`, `*`, `/`, and `**` for calculations.\n",
    "\n",
    "Here are a few examples:\n",
    "\n",
    "- **Addition:** `5 + 3 = 8`\n",
    "- **Subtraction:** `10 - 4 = 6`\n",
    "- **Multiplication:** `6 * 7 = 42`\n",
    "- **Division:** `20 / 5 = 4.0`\n",
    "- **Exponentiation:** `2 ** 3 = 8`\n"
   ]
  },
  {
   "cell_type": "code",
   "execution_count": 3,
   "metadata": {},
   "outputs": [
    {
     "name": "stdout",
     "output_type": "stream",
     "text": [
      "17\n"
     ]
    }
   ],
   "source": [
    "# This is a simple arithmetic expression to multiply then add integers\n",
    "result = (3 * 4) + 5\n",
    "print(result)"
   ]
  },
  {
   "cell_type": "code",
   "execution_count": 4,
   "metadata": {},
   "outputs": [
    {
     "name": "stdout",
     "output_type": "stream",
     "text": [
      "3.3333333333333335\n"
     ]
    }
   ],
   "source": [
    "# This will convert 200 minutes to hours by dividing by 60\n",
    "minutes = 200\n",
    "hours = minutes / 60\n",
    "print(hours)"
   ]
  },
  {
   "cell_type": "markdown",
   "metadata": {},
   "source": [
    "**Objectives:**\n",
    "\n",
    "- List popular languages for Data Science\n",
    "- Identify common open-source development tools used in Data Science\n",
    "- Demonstrate basic arithmetic expressions in Python\n",
    "- Convert time from minutes to hours using Python\n",
    "- Understand how to use Jupyter Notebook for coding and markdown documentation\n"
   ]
  },
  {
   "cell_type": "markdown",
   "metadata": {},
   "source": [
    "## Author\n",
    "\n",
    "Ahmad Almakhlafi"
   ]
  },
  {
   "cell_type": "code",
   "execution_count": null,
   "metadata": {},
   "outputs": [],
   "source": []
  }
 ],
 "metadata": {
  "kernelspec": {
   "display_name": "Python 3 (ipykernel)",
   "language": "python",
   "name": "python3"
  },
  "language_info": {
   "codemirror_mode": {
    "name": "ipython",
    "version": 3
   },
   "file_extension": ".py",
   "mimetype": "text/x-python",
   "name": "python",
   "nbconvert_exporter": "python",
   "pygments_lexer": "ipython3",
   "version": "3.12.8"
  }
 },
 "nbformat": 4,
 "nbformat_minor": 4
}
